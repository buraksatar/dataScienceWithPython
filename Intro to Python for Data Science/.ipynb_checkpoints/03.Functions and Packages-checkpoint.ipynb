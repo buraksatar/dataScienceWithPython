{
 "cells": [
  {
   "cell_type": "markdown",
   "metadata": {},
   "source": [
    "# 1. Functions\n",
    "\n",
    "The general recipe for calling functions and saving the result to a variable is thus:\n",
    "\n",
    "```\n",
    "output = function_name(input)\n",
    "```\n",
    "\n",
    "Out of the box, Python offers a bunch of built-in functions to make your life easier. For example,\n",
    "\n",
    "```\n",
    "print(), type(), len(), str(), int(), bool(), float()\n",
    "```\n",
    "\n",
    "### Help!\n",
    "\n",
    "Maybe you already know the name of a Python function, but you still have to figure out how to use it. Ironically, you have to ask for information about a function with another function: `help()`. In IPython specifically, you can also use `?` before the function name.\n",
    "\n",
    "To get help on the `max()` function, for example, you can use one of these calls:\n",
    "\n",
    "```\n",
    "help(max)\n",
    "?max\n",
    "```\n",
    "\n",
    "### Multiple arguments\n",
    "\n",
    "Have a look at the documentation of `sorted()` by typing `help(sorted)` in the IPython Shell.\n",
    "\n",
    "You'll see that `sorted()` takes three arguments: `iterable`, `key` and `reverse`.\n",
    "\n",
    "`key=None` means that if you don't specify the `key` argument, it will be `None`. `reverse=False` means that if you don't specify the reverse argument, it will be False.\n",
    "\n",
    "**Note**: For now, we can understand an **iterable** as being any collection of objects, e.g. a List."
   ]
  },
  {
   "cell_type": "code",
   "execution_count": 1,
   "metadata": {},
   "outputs": [],
   "source": [
    "# Create lists first and second\n",
    "first = [11.25, 18.0, 20.0]\n",
    "second = [10.75, 9.50]\n",
    "\n",
    "# Paste together first and second: full\n",
    "full = first + second\n",
    "\n",
    "# Sort full in descending order: full_sorted\n",
    "full_sorted = sorted(full, reverse=True)\n",
    "\n",
    "# Print out full_sorted\n",
    "print(full_sorted)"
   ]
  },
  {
   "cell_type": "markdown",
   "metadata": {},
   "source": [
    "# 2. Methods\n",
    "\n",
    "### String Methods\n",
    "\n",
    "Strings come with a bunch of methods. Follow the instructions closely to discover some of them. If you want to discover them in more detail, you can always type `help(str)` in the IPython Shell."
   ]
  },
  {
   "cell_type": "code",
   "execution_count": 2,
   "metadata": {},
   "outputs": [
    {
     "name": "stdout",
     "output_type": "stream",
     "text": [
      "poolhouse\n",
      "POOLHOUSE\n",
      "3\n"
     ]
    }
   ],
   "source": [
    "# string to experiment with: room\n",
    "place = \"poolhouse\"\n",
    "\n",
    "# Use upper() on room: room_up\n",
    "place_up = place.upper()\n",
    "\n",
    "# Print out room and room_up\n",
    "print(place)\n",
    "print(place_up)\n",
    "\n",
    "# Print out the number of o's in room\n",
    "print(place.count(\"o\"))"
   ]
  },
  {
   "cell_type": "markdown",
   "metadata": {},
   "source": [
    "### List Methods\n",
    "\n",
    "Strings are not the only Python types that have methods associated with them. Lists, floats, integers and booleans are also types that come packaged with a bunch of useful methods.\n",
    "\n",
    "- index(), to get the index of the first element of a list that matches its input and\n",
    "- count(), to get the number of times an element appears in a list.\n"
   ]
  },
  {
   "cell_type": "code",
   "execution_count": 3,
   "metadata": {},
   "outputs": [
    {
     "name": "stdout",
     "output_type": "stream",
     "text": [
      "2\n",
      "1\n"
     ]
    }
   ],
   "source": [
    "# Create list areas\n",
    "areas = [11.25, 18.0, 20.0, 10.75, 9.50]\n",
    "\n",
    "# Print out the index of the element 20.0\n",
    "print(areas.index(20.0))\n",
    "\n",
    "# Print out how often 9.50 appears in areas\n",
    "print(areas.count(9.50))\n"
   ]
  },
  {
   "cell_type": "markdown",
   "metadata": {},
   "source": [
    "Most list methods will change the list they're called on. Examples are:\n",
    "\n",
    "- append(), that adds an element to the list it is called on,\n",
    "- remove(), that removes the first element of a list that matches the input, and\n",
    "- reverse(), that reverses the order of the elements in the list it is called on."
   ]
  },
  {
   "cell_type": "code",
   "execution_count": 4,
   "metadata": {},
   "outputs": [
    {
     "name": "stdout",
     "output_type": "stream",
     "text": [
      "[11.25, 18.0, 20.0, 10.75, 9.5, 24.5, 15.45]\n",
      "[15.45, 24.5, 9.5, 10.75, 20.0, 18.0, 11.25]\n"
     ]
    }
   ],
   "source": [
    "# Create list areas\n",
    "areas = [11.25, 18.0, 20.0, 10.75, 9.50]\n",
    "\n",
    "# Use append twice to add poolhouse and garage size\n",
    "areas.append(24.5)\n",
    "areas.append(15.45)\n",
    "\n",
    "# Print out areas\n",
    "print(areas)\n",
    "\n",
    "# Reverse the orders of the elements in areas\n",
    "areas.reverse()\n",
    "\n",
    "# Print out areas\n",
    "print(areas)"
   ]
  },
  {
   "cell_type": "markdown",
   "metadata": {},
   "source": [
    "# 3. Packages\n",
    "\n",
    "### Import package\n",
    "\n",
    "For a fancy clustering algorithm, you want to find the circumference, C, and area, A, of a circle. When the radius of the circle is `r`, you can calculate C and A as:\n",
    "\n",
    "```\n",
    "C=2πr\n",
    " \n",
    "A=πr2\n",
    "```\n",
    "\n",
    "To use the constant `pi`, you'll need the math package."
   ]
  },
  {
   "cell_type": "code",
   "execution_count": 5,
   "metadata": {},
   "outputs": [
    {
     "name": "stdout",
     "output_type": "stream",
     "text": [
      "Circumference: 2.701769682087222\n",
      "Area: 0.5808804816487527\n"
     ]
    }
   ],
   "source": [
    "# Definition of radius\n",
    "r = 0.43\n",
    "\n",
    "# Import the math package\n",
    "# Now you can access the constant pi with math.pi\n",
    "import math\n",
    "\n",
    "# Calculate the circumference of the circle and store it in C\n",
    "C = 2 * math.pi * r\n",
    "\n",
    "# Calculate the area of the circle and store it in A\n",
    "A = math.pi * (r ** 2)\n",
    "\n",
    "# Build printout\n",
    "print(\"Circumference: \" + str(C))\n",
    "print(\"Area: \" + str(A))"
   ]
  },
  {
   "cell_type": "markdown",
   "metadata": {},
   "source": [
    "### Selective import\n",
    "\n",
    "eneral imports, like `import math`, make all functionality from the `math` package available to you. However, if you decide to only use a specific part of a package, you can always make your import more selective:\n",
    "\n",
    "```\n",
    "from math import pi\n",
    "```\n",
    "\n",
    "Let's say the Moon's orbit around planet Earth is a perfect circle, with a radius `r` (in km) that is defined in the script."
   ]
  },
  {
   "cell_type": "code",
   "execution_count": 6,
   "metadata": {},
   "outputs": [
    {
     "name": "stdout",
     "output_type": "stream",
     "text": [
      "40317.10572106901\n"
     ]
    }
   ],
   "source": [
    "# Definition of radius\n",
    "r = 192500\n",
    "\n",
    "# Perform a selective import from the math package where you only import the radians function.\n",
    "# Import radians function of math package\n",
    "from math import radians\n",
    "\n",
    "# Travel distance of Moon over 12 degrees. Store in dist.\n",
    "dist = r * radians(12)\n",
    "\n",
    "# Print out dist\n",
    "print(dist)"
   ]
  },
  {
   "cell_type": "markdown",
   "metadata": {},
   "source": [
    "### Different ways of importing\n",
    "\n",
    "There are several ways to import packages and modules into Python. Depending on the import call, you'll have to use different Python code.\n",
    "\n",
    "Suppose you want to use the function `inv()`, which is in the `linalg` subpackage of the `scipy` package. You want to be able to use this function as follows:\n",
    "\n",
    "```\n",
    "my_inv([[1,2], [3,4]])\n",
    "```\n",
    "\n",
    "For this, you need to import it like that:\n",
    "\n",
    "```\n",
    "from scipy.linalg import inv as my_inv\n",
    "```"
   ]
  }
 ],
 "metadata": {
  "kernelspec": {
   "display_name": "Python 3",
   "language": "python",
   "name": "python3"
  },
  "language_info": {
   "codemirror_mode": {
    "name": "ipython",
    "version": 3
   },
   "file_extension": ".py",
   "mimetype": "text/x-python",
   "name": "python",
   "nbconvert_exporter": "python",
   "pygments_lexer": "ipython3",
   "version": "3.6.5"
  }
 },
 "nbformat": 4,
 "nbformat_minor": 2
}
