{
 "cells": [
  {
   "cell_type": "markdown",
   "metadata": {},
   "source": [
    "In this chapter, you'll learn how to extract meaningful data from relational databases, an essential element of any data scientist's toolkit. You will be learning about the relational model, creating SQL queries, filtering and ordering your SQL records, and advanced querying by JOINing database tables.\n",
    "\n",
    "# 1. Introduction to relational databases\n",
    "\n",
    "- Each row or record in a table represents an instance of an entity type.\n",
    "- Each column in a table represents an attribute or feature of an instance.\n",
    "- Every table contains a primary key column, which has a unique entry for each row.\n",
    "- There are relations between tables.\n",
    "\n",
    "# 2. Creating a database engine in Python\n",
    "\n",
    "### Creating a database engine\n",
    "\n",
    "Here, you're going to fire up your very first SQL engine. You'll create an engine to connect to the SQLite database `'Chinook.sqlite'`, which is in your working directory. Remember that to create an engine to connect to `'Northwind.sqlite'`.\n",
    "\n",
    "```\n",
    "engine = create_engine('sqlite:///Northwind.sqlite')\n",
    "```\n",
    "\n",
    "Here, `'sqlite:///Northwind.sqlite'` is called the connection string to the SQLite database `Northwind.sqlite`. A little bit of background on the Chinook database: the [Chinook database](http://chinookdatabase.codeplex.com/) contains information about a semi-fictional digital media store in which media data is real and customer, employee and sales data has been manually created.\n",
    "\n",
    "Why the name Chinook, you ask? According to their [website](https://archive.codeplex.com/?p=chinookdatabase),\n",
    "```\n",
    "The name of this sample database was based on the Northwind database. Chinooks are winds in the interior West of North America, where the Canadian Prairies and Great Plains meet various mountain ranges. Chinooks are most prevalent over southern Alberta in Canada. Chinook is a good name choice for a database that intends to be an alternative to Northwind.\n",
    "```"
   ]
  },
  {
   "cell_type": "code",
   "execution_count": null,
   "metadata": {},
   "outputs": [],
   "source": [
    "# Import necessary module\n",
    "from sqlalchemy import create_engine\n",
    "\n",
    "# Create engine: engine\n",
    "engine = create_engine('sqlite:///Chinook.sqlite')"
   ]
  },
  {
   "cell_type": "markdown",
   "metadata": {},
   "source": [
    "### What are the tables in the database?\n",
    "\n",
    "In this exercise, you'll once again create an engine to connect to `'Chinook.sqlite'`. Before you can get any data out of the database, however, you'll need to know what tables it contains!\n",
    "\n",
    "To this end, you'll save the table names to a list using the method `table_names()` on the engine and then you will print the list."
   ]
  },
  {
   "cell_type": "code",
   "execution_count": null,
   "metadata": {},
   "outputs": [],
   "source": [
    "# Import necessary module\n",
    "from sqlalchemy import create_engine\n",
    "\n",
    "# Create engine: engine\n",
    "engine = create_engine('sqlite:///Chinook.sqlite')\n",
    "\n",
    "# Save the table names to a list: table_names\n",
    "table_names = engine.table_names()\n",
    "\n",
    "# Print the table names to the shell\n",
    "print(table_names)"
   ]
  },
  {
   "cell_type": "markdown",
   "metadata": {},
   "source": [
    "# 3. Querying relational databases in Python\n",
    "\n",
    "### The Hello World of SQL Queries!\n",
    "\n",
    "Now, it's time for liftoff! In this exercise, you'll perform the Hello World of SQL queries, `SELECT`, in order to retrieve all columns of the table `Album` in the Chinook database. Recall that the query `SELECT *` selects all columns."
   ]
  },
  {
   "cell_type": "code",
   "execution_count": null,
   "metadata": {},
   "outputs": [],
   "source": [
    "# Import packages\n",
    "from sqlalchemy import create_engine\n",
    "import pandas as pd\n",
    "\n",
    "# Create engine: engine\n",
    "engine = create_engine('sqlite:///Chinook.sqlite')\n",
    "\n",
    "# Open engine connection: con\n",
    "con = engine.connect()\n",
    "\n",
    "# Execute the query that selects ALL columns from the Album table\n",
    "# Perform query: rs\n",
    "rs = con.execute('SELECT * FROM Album')\n",
    "\n",
    "# Store all of your query results\n",
    "# Save results of the query to DataFrame: df\n",
    "df = pd.DataFrame(rs.fetchall())\n",
    "\n",
    "# Close connection\n",
    "con.close()\n",
    "\n",
    "# Print head of DataFrame df\n",
    "print(df.head())\n"
   ]
  },
  {
   "cell_type": "markdown",
   "metadata": {},
   "source": [
    "### Customizing the Hello World of SQL Queries\n",
    "\n",
    "Congratulations on executing your first SQL query! Now you're going to figure out how to customize your query in order to:\n",
    "\n",
    "- Select specified columns from a table;\n",
    "- Select a specified number of rows;\n",
    "- Import column names from the database table.\n",
    "\n",
    "Recall that Hugo performed a very similar query customization in the video:\n",
    "\n",
    "```\n",
    "engine = create_engine('sqlite:///Northwind.sqlite')\n",
    "\n",
    "with engine.connect() as con:\n",
    "    rs = con.execute(\"SELECT OrderID, OrderDate, ShipName FROM Orders\")\n",
    "    df = pd.DataFrame(rs.fetchmany(size=5))\n",
    "    df.columns = rs.keys()\n",
    "```\n",
    "\n",
    "Packages have already been imported as follows:\n",
    "\n",
    "```\n",
    "from sqlalchemy import create_engine\n",
    "import pandas as pd\n",
    "```\n",
    "\n",
    "The engine has also already been created:\n",
    "\n",
    "```\n",
    "engine = create_engine('sqlite:///Chinook.sqlite')\n",
    "```\n",
    "\n",
    "The engine connection is already open with the statement\n",
    "\n",
    "```\n",
    "with engine.connect() as con:\n",
    "```\n",
    "\n",
    "All the code you need to complete is within this context."
   ]
  },
  {
   "cell_type": "code",
   "execution_count": null,
   "metadata": {},
   "outputs": [],
   "source": [
    "# Open engine in context manager\n",
    "# Perform query and save results to DataFrame: df\n",
    "with engine.connect() as con:\n",
    "    # Execute the SQL query that selects the columns LastName and Title from the Employee table.\n",
    "    rs = con.execute('SELECT LastName, Title FROM Employee')\n",
    "    # Apply the method fetchmany() to rs in order to retrieve 3 of the records.\n",
    "    df = pd.DataFrame(rs.fetchmany(size=3))\n",
    "    # Using the rs object, set the DataFrame's column names to the corresponding names of the table columns.\n",
    "    df.columns = rs.keys()\n",
    "\n",
    "# Print the length of the DataFrame df\n",
    "print(len(df))\n",
    "\n",
    "# Print the head of the DataFrame df\n",
    "print(df.head())\n"
   ]
  },
  {
   "cell_type": "markdown",
   "metadata": {},
   "source": [
    "### Filtering your database records using SQL's WHERE\n",
    "\n",
    "You can now execute a basic SQL query to select records from any table in your database and you can also perform simple query customizations to select particular columns and numbers of rows.\n",
    "\n",
    "There are a couple more standard SQL query chops that will aid you in your journey to becoming an SQL ninja.\n",
    "\n",
    "Let's say, for example that you wanted to get all records from the `Customer` table of the Chinook database for which the `Country` is `'Canada'`. You can do this very easily in SQL using a `SELECT` statement followed by a `WHERE` clause as follows:\n",
    "\n",
    "```\n",
    "SELECT * FROM Customer WHERE Country = 'Canada'\n",
    "```\n",
    "\n",
    "In fact, you can filter any `SELECT` statement by any condition using a `WHERE` clause. This is called filtering your records.\n",
    "\n",
    "In this interactive exercise, you'll select all records of the `Employee` table for which `'EmployeeId'` is greater than or equal to `6`.\n",
    "\n",
    "Packages are already imported as follows:\n",
    "\n",
    "```\n",
    "import pandas as pd\n",
    "from sqlalchemy import create_engine\n",
    "```\n",
    "\n",
    "Query away!"
   ]
  },
  {
   "cell_type": "code",
   "execution_count": null,
   "metadata": {},
   "outputs": [],
   "source": [
    "# Create engine: engine\n",
    "engine = create_engine('sqlite:///Chinook.sqlite')\n",
    "\n",
    "# Open engine in context manager\n",
    "# Perform query and save results to DataFrame: df\n",
    "with engine.connect() as con:\n",
    "    # Execute the query that selects all records from the Employee table where 'EmployeeId' is greater than or equal to 6. Use the >= operator and assign the results to rs\n",
    "    rs = con.execute('SELECT * FROM Employee WHERE EmployeeId >= 6')\n",
    "    df = pd.DataFrame(rs.fetchall())\n",
    "    df.columns = rs.keys()\n",
    "\n",
    "# Print the head of the DataFrame df\n",
    "print(df.head())\n"
   ]
  },
  {
   "cell_type": "markdown",
   "metadata": {},
   "source": [
    "### Ordering your SQL records with ORDER BY\n",
    "\n",
    "You can also *order* your SQL query results. For example, if you wanted to get all records from the `Customer` table of the Chinook database and order them in increasing order by the column `SupportRepId`, you could do so with the following query:\n",
    "\n",
    "```\n",
    "\"SELECT * FROM Customer ORDER BY SupportRepId\"\n",
    "```\n",
    "\n",
    "In fact, you can order any `SELECT` statement by any column.\n",
    "\n",
    "In this interactive exercise, you'll select all records of the `Employee` table and order them in increasing order by the column `BirthDate`.\n",
    "\n",
    "Packages are already imported as follows:\n",
    "\n",
    "```\n",
    "import pandas as pd\n",
    "from sqlalchemy import create_engine\n",
    "```\n",
    "\n",
    "Get querying!"
   ]
  },
  {
   "cell_type": "code",
   "execution_count": null,
   "metadata": {},
   "outputs": [],
   "source": [
    "# Create engine: engine\n",
    "engine = create_engine('sqlite:///Chinook.sqlite')\n",
    "\n",
    "# Open engine in context manager\n",
    "with engine.connect() as con:\n",
    "    # In the context manager, execute the query that selects all records from the Employee table and orders them in increasing order by the column BirthDate\n",
    "    rs = con.execute('SELECT * FROM Employee ORDER BY BirthDate')\n",
    "    df = pd.DataFrame(rs.fetchall())\n",
    "\n",
    "    # Set the DataFrame's column names\n",
    "    df.columns = rs.keys()\n",
    "\n",
    "# Print head of DataFrame\n",
    "print(df.head())"
   ]
  },
  {
   "cell_type": "markdown",
   "metadata": {},
   "source": [
    "# 4. Querying relational databases directly with pandas\n",
    "\n",
    "### Pandas and The Hello World of SQL Queries!\n",
    "\n",
    "Here, you'll take advantage of the power of `pandas` to write the results of your SQL query to a DataFrame in one swift line of Python code!\n",
    "\n",
    "You'll first import `pandas` and create the SQLite `'Chinook.sqlite'` engine. Then you'll query the database to select all records from the `Album` table.\n",
    "\n",
    "Recall that to select all records from the `Orders` table in the Northwind database, Hugo executed the following command:\n",
    "\n",
    "```\n",
    "df = pd.read_sql_query(\"SELECT * FROM Orders\", engine)\n",
    "```"
   ]
  },
  {
   "cell_type": "code",
   "execution_count": null,
   "metadata": {},
   "outputs": [],
   "source": [
    "# Import packages\n",
    "from sqlalchemy import create_engine\n",
    "import pandas as pd\n",
    "\n",
    "# Create engine: engine\n",
    "engine = create_engine('sqlite:///Chinook.sqlite')\n",
    "\n",
    "# Execute query and store records in DataFrame: df\n",
    "df = pd.read_sql_query('SELECT * FROM Album', engine)\n",
    "\n",
    "# Print head of DataFrame\n",
    "print(df.head())\n",
    "\n",
    "# Open engine in context manager and store query result in df1\n",
    "with engine.connect() as con:\n",
    "    rs = con.execute(\"SELECT * FROM Album\")\n",
    "    df1 = pd.DataFrame(rs.fetchall())\n",
    "    df1.columns = rs.keys()\n",
    "\n",
    "# Confirm that both methods yield the same result\n",
    "print(df.equals(df1))"
   ]
  },
  {
   "cell_type": "markdown",
   "metadata": {},
   "source": [
    "### Pandas for more complex querying\n",
    "\n",
    "Here, you'll become more familiar with the pandas function `read_sql_query()` by using it to execute a more complex query: a `SELECT` statement followed by both a `WHERE` clause AND an `ORDER BY` clause.\n",
    "\n",
    "You'll build a DataFrame that contains the rows of the `Employee` table for which the `EmployeeId` is greater than or equal to `6` and you'll order these entries by `BirthDate`."
   ]
  },
  {
   "cell_type": "code",
   "execution_count": null,
   "metadata": {},
   "outputs": [],
   "source": [
    "# Import packages\n",
    "from sqlalchemy import create_engine\n",
    "import pandas as pd\n",
    "\n",
    "# Create engine: engine\n",
    "engine = create_engine('sqlite:///Chinook.sqlite')\n",
    "\n",
    "# Execute query and store records in DataFrame: df\n",
    "df = pd.read_sql_query('SELECT * FROM Employee WHERE EmployeeId >= 6 ORDER BY BirthDate', engine)\n",
    "\n",
    "# Print head of DataFrame\n",
    "print(df.head())\n"
   ]
  },
  {
   "cell_type": "markdown",
   "metadata": {},
   "source": [
    "# 5. Advanced Querying: exploiting table relationships\n",
    "\n",
    "### The power of SQL lies in relationships between tables: INNER JOIN\n",
    "\n",
    "Here, you'll perform your first `INNER JOIN`! You'll be working with your favourite SQLite database, `Chinook.sqlite`. For each record in the `Album` table, you'll extract the `Title` along with the `Name` of the `Artist`. The latter will come from the `Artist` table and so you will need to INNER JOIN these two tables on the `ArtistID` column of both.\n",
    "\n",
    "Recall that to `INNER JOIN` the `Orders` and `Customers` tables from the Northwind database, Hugo executed the following SQL query:\n",
    "\n",
    "```\n",
    "\"SELECT OrderID, CompanyName FROM Orders INNER JOIN Customers on Orders.CustomerID = Customers.CustomerID\"\n",
    "```\n",
    "\n",
    "The following code has already been executed to import the necessary packages and to create the engine:\n",
    "\n",
    "```\n",
    "import pandas as pd\n",
    "from sqlalchemy import create_engine\n",
    "engine = create_engine('sqlite:///Chinook.sqlite')\n",
    "```"
   ]
  },
  {
   "cell_type": "code",
   "execution_count": null,
   "metadata": {},
   "outputs": [],
   "source": [
    "# Open engine in context manager\n",
    "# Perform query and save results to DataFrame: df\n",
    "with engine.connect() as con:\n",
    "    # Assign to rs the results from the following query: select all the records, extracting the Title of the record and Name of the artist of each record from the Album table and the Artist table, respectively. To do so, INNER JOIN these two tables on the ArtistID column of both.\n",
    "    rs = con.execute('SELECT Title, Name FROM Album INNER JOIN Artist on Album.ArtistId = Artist.ArtistId ')\n",
    "    df = pd.DataFrame(rs.fetchall())\n",
    "    df.columns = rs.keys()\n",
    "\n",
    "# Print head of DataFrame df\n",
    "print(df.head())\n"
   ]
  },
  {
   "cell_type": "markdown",
   "metadata": {},
   "source": [
    "### Filtering your INNER JOIN\n",
    "\n",
    "Congrats on performing your first `INNER JOIN`! You're now going to finish this chapter with one final exercise in which you perform an `INNER JOIN` and filter the result using a `WHERE` clause.\n",
    "\n",
    "Recall that to `INNER JOIN` the `Orders` and `Customers` tables from the Northwind database, Hugo executed the following SQL query:\n",
    "\n",
    "```\n",
    "\"SELECT OrderID, CompanyName FROM Orders INNER JOIN Customers on Orders.CustomerID = Customers.CustomerID\"\n",
    "```\n",
    "\n",
    "The following code has already been executed to import the necessary packages and to create the engine:\n",
    "\n",
    "```\n",
    "import pandas as pd\n",
    "from sqlalchemy import create_engine\n",
    "engine = create_engine('sqlite:///Chinook.sqlite')\n",
    "```"
   ]
  },
  {
   "cell_type": "code",
   "execution_count": null,
   "metadata": {},
   "outputs": [],
   "source": [
    "# Execute query and store records in DataFrame: df\n",
    "with engine.connect() as con:\n",
    "    rs = con.execute('SELECT * FROM PlaylistTrack INNER JOIN Track on PlaylistTrack.TrackId = Track.TrackId WHERE Milliseconds < 250000')\n",
    "    df = pd.DataFrame(rs.fetchall())\n",
    "    df.columns = rs.keys()\n",
    "\n",
    "# Print head of DataFrame\n",
    "print(df.head())"
   ]
  }
 ],
 "metadata": {
  "kernelspec": {
   "display_name": "Python 3",
   "language": "python",
   "name": "python3"
  },
  "language_info": {
   "codemirror_mode": {
    "name": "ipython",
    "version": 3
   },
   "file_extension": ".py",
   "mimetype": "text/x-python",
   "name": "python",
   "nbconvert_exporter": "python",
   "pygments_lexer": "ipython3",
   "version": "3.6.5"
  }
 },
 "nbformat": 4,
 "nbformat_minor": 2
}
